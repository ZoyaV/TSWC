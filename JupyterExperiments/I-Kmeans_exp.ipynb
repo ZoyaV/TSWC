{
 "cells": [
  {
   "cell_type": "code",
   "execution_count": 79,
   "metadata": {},
   "outputs": [],
   "source": [
    "import pandas as pd\n",
    "import numpy as np\n",
    "import matplotlib.pyplot as plt\n",
    "import pywt\n",
    "from sklearn.cluster import KMeans,DBSCAN\n",
    "import random\n",
    "from scipy.spatial import distance"
   ]
  },
  {
   "cell_type": "markdown",
   "metadata": {},
   "source": [
    "### i-k-means"
   ]
  },
  {
   "cell_type": "code",
   "execution_count": 242,
   "metadata": {},
   "outputs": [],
   "source": [
    "def down(data):\n",
    "    print(level)\n",
    "    cA = pywt.downcoef('d', data, 'haar', level=level)    \n",
    "    cD = pywt.downcoef('a', data, 'haar', level=level) \n",
    "    return cA, cD\n",
    "\n",
    "def centnters_updata(centers):\n",
    "    new_centers = []\n",
    "    for c in centers:\n",
    "        new_centers+=[c,c]\n",
    "    return np.asarray(new_centers)\n",
    "\n",
    "def ik_mean(data):\n",
    "    global centers, k, level, recunstruct, y_kmeans\n",
    "    cA, cD = down(data)\n",
    "    X = np.asarray(list(zip(cA, cD)))\n",
    "    #print(\"end1 - \", cA)\n",
    "    if centers is not None:\n",
    "        centers = centnters_updata(centers)\n",
    "      #  print(k, len(centers))\n",
    "        kmeans = KMeans(n_clusters= k, init = centers)\n",
    "    else:\n",
    "        kmeans = KMeans(n_clusters= k)\n",
    "   # print(\"end2\")\n",
    "    k*=2\n",
    "    level -= 1\n",
    "    recunstruct = 2**level        \n",
    "   \n",
    "    kmeans.fit(X)\n",
    "    y_kmeans = kmeans.predict(X)\n",
    "    centers = kmeans.cluster_centers_\n",
    "   # print(\"end3\", y_kmeans)\n",
    "    if level <= END_DECOMPOSITION_LVL:\n",
    "        return \n",
    "    ik_mean(data)\n",
    "    return \n",
    "    \n",
    "def label(data, y_kmeans):\n",
    "    global recunstruct\n",
    "    every_point_classes = [y for y in y_kmeans for i in range(recunstruct) ]\n",
    "    every_point_classes = np.asarray(every_point_classes)[:len(data)]\n",
    "    return every_point_classes"
   ]
  },
  {
   "cell_type": "markdown",
   "metadata": {},
   "source": [
    "### Visualization"
   ]
  },
  {
   "cell_type": "code",
   "execution_count": 183,
   "metadata": {},
   "outputs": [],
   "source": [
    "def all_patterns(data, every_point_classes, dclass, recunstruct):\n",
    "    mask = every_point_classes == dclass\n",
    "    indx = np.where(mask)[0]  \n",
    "\n",
    "    count = len(indx)//recunstruct\n",
    "    print(len(data))\n",
    "    patterns = []\n",
    "\n",
    "    for i in range(count): \n",
    "        patterns.append(data[indx[i*recunstruct:(i+1)*recunstruct]])\n",
    "    return patterns\n",
    "\n",
    "def plot_pattern(patterns, color = 'b', dclass = 'x', save = False):    \n",
    "    count = len(patterns)\n",
    "   # print(count)\n",
    "    if count <= 1:\n",
    "        return\n",
    "    fig, axs = plt.subplots(count, 1, constrained_layout=False, figsize = (6,1*count))\n",
    "    for i in range(count): \n",
    "        axs[i].plot(list(patterns[i]), color = color);\n",
    "    fig.suptitle('Class = %d, Pattern count = %d\\n'%(dclass, count), fontsize=14)\n",
    "    fig.tight_layout()\n",
    "    if save == True:\n",
    "        fig.savefig('Class_%d.png'%dclass)   \n",
    "    plt.show();"
   ]
  },
  {
   "cell_type": "code",
   "execution_count": 116,
   "metadata": {},
   "outputs": [
    {
     "data": {
      "text/html": [
       "<div>\n",
       "<style scoped>\n",
       "    .dataframe tbody tr th:only-of-type {\n",
       "        vertical-align: middle;\n",
       "    }\n",
       "\n",
       "    .dataframe tbody tr th {\n",
       "        vertical-align: top;\n",
       "    }\n",
       "\n",
       "    .dataframe thead th {\n",
       "        text-align: right;\n",
       "    }\n",
       "</style>\n",
       "<table border=\"1\" class=\"dataframe\">\n",
       "  <thead>\n",
       "    <tr style=\"text-align: right;\">\n",
       "      <th></th>\n",
       "      <th>0</th>\n",
       "      <th>1</th>\n",
       "      <th>2</th>\n",
       "      <th>3</th>\n",
       "      <th>4</th>\n",
       "      <th>5</th>\n",
       "      <th>6</th>\n",
       "      <th>7</th>\n",
       "      <th>8</th>\n",
       "      <th>9</th>\n",
       "      <th>10</th>\n",
       "      <th>11</th>\n",
       "      <th>12</th>\n",
       "      <th>13</th>\n",
       "      <th>14</th>\n",
       "      <th>15</th>\n",
       "      <th>16</th>\n",
       "      <th>17</th>\n",
       "    </tr>\n",
       "  </thead>\n",
       "  <tbody>\n",
       "    <tr>\n",
       "      <th>0</th>\n",
       "      <td>19890101</td>\n",
       "      <td>0</td>\n",
       "      <td>5.0</td>\n",
       "      <td>312</td>\n",
       "      <td>54</td>\n",
       "      <td>9.0</td>\n",
       "      <td>313</td>\n",
       "      <td>8.1</td>\n",
       "      <td>306</td>\n",
       "      <td>6.2</td>\n",
       "      <td>287</td>\n",
       "      <td>5.3</td>\n",
       "      <td>252</td>\n",
       "      <td>0.0</td>\n",
       "      <td>0.0</td>\n",
       "      <td>0.0</td>\n",
       "      <td>0</td>\n",
       "      <td>0.99</td>\n",
       "    </tr>\n",
       "    <tr>\n",
       "      <th>1</th>\n",
       "      <td>19890101</td>\n",
       "      <td>1</td>\n",
       "      <td>4.7</td>\n",
       "      <td>316</td>\n",
       "      <td>46</td>\n",
       "      <td>6.8</td>\n",
       "      <td>325</td>\n",
       "      <td>7.4</td>\n",
       "      <td>329</td>\n",
       "      <td>4.6</td>\n",
       "      <td>318</td>\n",
       "      <td>2.2</td>\n",
       "      <td>261</td>\n",
       "      <td>0.0</td>\n",
       "      <td>0.0</td>\n",
       "      <td>0.0</td>\n",
       "      <td>0</td>\n",
       "      <td>1.00</td>\n",
       "    </tr>\n",
       "    <tr>\n",
       "      <th>2</th>\n",
       "      <td>19890101</td>\n",
       "      <td>2</td>\n",
       "      <td>4.5</td>\n",
       "      <td>315</td>\n",
       "      <td>41</td>\n",
       "      <td>5.0</td>\n",
       "      <td>347</td>\n",
       "      <td>6.8</td>\n",
       "      <td>2</td>\n",
       "      <td>4.0</td>\n",
       "      <td>18</td>\n",
       "      <td>2.2</td>\n",
       "      <td>94</td>\n",
       "      <td>0.0</td>\n",
       "      <td>0.0</td>\n",
       "      <td>0.0</td>\n",
       "      <td>0</td>\n",
       "      <td>1.00</td>\n",
       "    </tr>\n",
       "  </tbody>\n",
       "</table>\n",
       "</div>"
      ],
      "text/plain": [
       "         0   1    2    3   4    5    6    7    8    9    10   11   12   13  \\\n",
       "0  19890101   0  5.0  312  54  9.0  313  8.1  306  6.2  287  5.3  252  0.0   \n",
       "1  19890101   1  4.7  316  46  6.8  325  7.4  329  4.6  318  2.2  261  0.0   \n",
       "2  19890101   2  4.5  315  41  5.0  347  6.8    2  4.0   18  2.2   94  0.0   \n",
       "\n",
       "    14   15  16    17  \n",
       "0  0.0  0.0   0  0.99  \n",
       "1  0.0  0.0   0  1.00  \n",
       "2  0.0  0.0   0  1.00  "
      ]
     },
     "execution_count": 116,
     "metadata": {},
     "output_type": "execute_result"
    }
   ],
   "source": [
    "data = pd.read_csv(\"data.csv\", skiprows = 5, header = None, sep=\"\\s+\")\n",
    "data.head(3)"
   ]
  },
  {
   "cell_type": "code",
   "execution_count": 72,
   "metadata": {},
   "outputs": [
    {
     "data": {
      "text/plain": [
       "<matplotlib.axes._subplots.AxesSubplot at 0x6d09215fd0>"
      ]
     },
     "execution_count": 72,
     "metadata": {},
     "output_type": "execute_result"
    },
    {
     "data": {
      "image/png": "[encoded data removed]",
      "text/plain": [
       "<Figure size 1440x288 with 1 Axes>"
      ]
     },
     "metadata": {},
     "output_type": "display_data"
    }
   ],
   "source": [
    "plt.figure(figsize = (20,4))\n",
    "train_data = data[3]\n",
    "train_data.plot()"
   ]
  },
  {
   "cell_type": "code",
   "execution_count": 246,
   "metadata": {},
   "outputs": [
    {
     "name": "stdout",
     "output_type": "stream",
     "text": [
      "14\n",
      "13\n",
      "12\n",
      "11\n",
      "10\n",
      "9\n",
      "8\n"
     ]
    },
    {
     "name": "stderr",
     "output_type": "stream",
     "text": [
      "C:\\Users\\Zoya\\Anaconda3\\lib\\site-packages\\sklearn\\cluster\\k_means_.py:896: RuntimeWarning: Explicit initial center position passed: performing only one init in k-means instead of n_init=10\n",
      "  return_n_iter=True)\n"
     ]
    },
    {
     "name": "stdout",
     "output_type": "stream",
     "text": [
      "7\n"
     ]
    }
   ],
   "source": [
    "START_DECOMPOSITION_LVL = 14\n",
    "END_DECOMPOSITION_LVL = 6\n",
    "\n",
    "k = 4\n",
    "y_kmeans = None\n",
    "level = START_DECOMPOSITION_LVL\n",
    "recunstruct = 2**(level)\n",
    "centers = None\n",
    "\n",
    "ik_mean(train_data)"
   ]
  },
  {
   "cell_type": "code",
   "execution_count": 254,
   "metadata": {},
   "outputs": [],
   "source": [
    "labels = np.asarray([y for y in y_kmeans for i in range(recunstruct) ])\n"
   ]
  },
  {
   "cell_type": "code",
   "execution_count": null,
   "metadata": {},
   "outputs": [
    {
     "name": "stdout",
     "output_type": "stream",
     "text": [
      "1024\n",
      "236664\n",
      "4\n"
     ]
    }
   ],
   "source": [
    "dclass = 340\n",
    "print(k)\n",
    "patterns = all_patterns(train_data, labels, dclass, recunstruct)\n",
    "plot_pattern(patterns, dclass = dclass)"
   ]
  },
  {
   "cell_type": "code",
   "execution_count": 257,
   "metadata": {},
   "outputs": [
    {
     "data": {
      "text/plain": [
       "array([348, 348, 348, ..., 182, 182, 182])"
      ]
     },
     "execution_count": 257,
     "metadata": {},
     "output_type": "execute_result"
    }
   ],
   "source": [
    "labels"
   ]
  },
  {
   "cell_type": "code",
   "execution_count": null,
   "metadata": {},
   "outputs": [],
   "source": []
  },
  {
   "cell_type": "code",
   "execution_count": null,
   "metadata": {},
   "outputs": [],
   "source": []
  }
 ],
 "metadata": {
  "kernelspec": {
   "display_name": "Python 3",
   "language": "python",
   "name": "python3"
  },
  "language_info": {
   "codemirror_mode": {
    "name": "ipython",
    "version": 3
   },
   "file_extension": ".py",
   "mimetype": "text/x-python",
   "name": "python",
   "nbconvert_exporter": "python",
   "pygments_lexer": "ipython3",
   "version": "3.6.5"
  }
 },
 "nbformat": 4,
 "nbformat_minor": 2
}
