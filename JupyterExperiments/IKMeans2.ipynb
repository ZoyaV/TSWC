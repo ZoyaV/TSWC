{
 "cells": [
  {
   "cell_type": "code",
   "execution_count": 1,
   "metadata": {},
   "outputs": [],
   "source": [
    "import pandas as pd\n",
    "import numpy as np\n",
    "import matplotlib.pyplot as plt\n",
    "import pywt\n",
    "from sklearn.cluster import KMeans,DBSCAN\n",
    "from sklearn.cluster import AgglomerativeClustering\n",
    "import random\n",
    "from scipy.spatial import distance\n",
    "import math\n",
    "from ipywidgets import interact, widgets, interactive, fixed\n",
    "import pickle"
   ]
  },
  {
   "cell_type": "code",
   "execution_count": 2,
   "metadata": {},
   "outputs": [
    {
     "data": {
      "text/html": [
       "<div>\n",
       "<style scoped>\n",
       "    .dataframe tbody tr th:only-of-type {\n",
       "        vertical-align: middle;\n",
       "    }\n",
       "\n",
       "    .dataframe tbody tr th {\n",
       "        vertical-align: top;\n",
       "    }\n",
       "\n",
       "    .dataframe thead th {\n",
       "        text-align: right;\n",
       "    }\n",
       "</style>\n",
       "<table border=\"1\" class=\"dataframe\">\n",
       "  <thead>\n",
       "    <tr style=\"text-align: right;\">\n",
       "      <th></th>\n",
       "      <th>0</th>\n",
       "      <th>1</th>\n",
       "      <th>2</th>\n",
       "      <th>3</th>\n",
       "      <th>4</th>\n",
       "      <th>5</th>\n",
       "      <th>6</th>\n",
       "      <th>7</th>\n",
       "      <th>8</th>\n",
       "      <th>9</th>\n",
       "      <th>10</th>\n",
       "      <th>11</th>\n",
       "      <th>12</th>\n",
       "      <th>13</th>\n",
       "      <th>14</th>\n",
       "      <th>15</th>\n",
       "      <th>16</th>\n",
       "      <th>17</th>\n",
       "    </tr>\n",
       "  </thead>\n",
       "  <tbody>\n",
       "    <tr>\n",
       "      <th>0</th>\n",
       "      <td>19890101</td>\n",
       "      <td>0</td>\n",
       "      <td>5.0</td>\n",
       "      <td>312</td>\n",
       "      <td>54</td>\n",
       "      <td>9.0</td>\n",
       "      <td>313</td>\n",
       "      <td>8.1</td>\n",
       "      <td>306</td>\n",
       "      <td>6.2</td>\n",
       "      <td>287</td>\n",
       "      <td>5.3</td>\n",
       "      <td>252</td>\n",
       "      <td>0.0</td>\n",
       "      <td>0.0</td>\n",
       "      <td>0.0</td>\n",
       "      <td>0</td>\n",
       "      <td>0.99</td>\n",
       "    </tr>\n",
       "    <tr>\n",
       "      <th>1</th>\n",
       "      <td>19890101</td>\n",
       "      <td>1</td>\n",
       "      <td>4.7</td>\n",
       "      <td>316</td>\n",
       "      <td>46</td>\n",
       "      <td>6.8</td>\n",
       "      <td>325</td>\n",
       "      <td>7.4</td>\n",
       "      <td>329</td>\n",
       "      <td>4.6</td>\n",
       "      <td>318</td>\n",
       "      <td>2.2</td>\n",
       "      <td>261</td>\n",
       "      <td>0.0</td>\n",
       "      <td>0.0</td>\n",
       "      <td>0.0</td>\n",
       "      <td>0</td>\n",
       "      <td>1.00</td>\n",
       "    </tr>\n",
       "    <tr>\n",
       "      <th>2</th>\n",
       "      <td>19890101</td>\n",
       "      <td>2</td>\n",
       "      <td>4.5</td>\n",
       "      <td>315</td>\n",
       "      <td>41</td>\n",
       "      <td>5.0</td>\n",
       "      <td>347</td>\n",
       "      <td>6.8</td>\n",
       "      <td>2</td>\n",
       "      <td>4.0</td>\n",
       "      <td>18</td>\n",
       "      <td>2.2</td>\n",
       "      <td>94</td>\n",
       "      <td>0.0</td>\n",
       "      <td>0.0</td>\n",
       "      <td>0.0</td>\n",
       "      <td>0</td>\n",
       "      <td>1.00</td>\n",
       "    </tr>\n",
       "  </tbody>\n",
       "</table>\n",
       "</div>"
      ],
      "text/plain": [
       "         0   1    2    3   4    5    6    7    8    9    10   11   12   13  \\\n",
       "0  19890101   0  5.0  312  54  9.0  313  8.1  306  6.2  287  5.3  252  0.0   \n",
       "1  19890101   1  4.7  316  46  6.8  325  7.4  329  4.6  318  2.2  261  0.0   \n",
       "2  19890101   2  4.5  315  41  5.0  347  6.8    2  4.0   18  2.2   94  0.0   \n",
       "\n",
       "    14   15  16    17  \n",
       "0  0.0  0.0   0  0.99  \n",
       "1  0.0  0.0   0  1.00  \n",
       "2  0.0  0.0   0  1.00  "
      ]
     },
     "execution_count": 2,
     "metadata": {},
     "output_type": "execute_result"
    }
   ],
   "source": [
    "data = pd.read_csv(\"data.csv\", skiprows = 5, header = None, sep=\"\\s+\")\n",
    "data.head(3)"
   ]
  },
  {
   "cell_type": "code",
   "execution_count": 3,
   "metadata": {},
   "outputs": [
    {
     "data": {
      "text/plain": [
       "<matplotlib.axes._subplots.AxesSubplot at 0xb4905e1978>"
      ]
     },
     "execution_count": 3,
     "metadata": {},
     "output_type": "execute_result"
    },
    {
     "data": {
      "image/png": "[encoded data removed]",
      "text/plain": [
       "<Figure size 720x288 with 1 Axes>"
      ]
     },
     "metadata": {},
     "output_type": "display_data"
    }
   ],
   "source": [
    "plt.figure(figsize = (10,4))\n",
    "train_data = data[4]\n",
    "train_data.plot()"
   ]
  },
  {
   "cell_type": "code",
   "execution_count": 135,
   "metadata": {},
   "outputs": [],
   "source": [
    "\n",
    "\n",
    "def get_slices(data, divider):\n",
    "    slices = []\n",
    "    piece_len = len(data)//divider\n",
    "    for i in range(0, len(data)- piece_len,piece_len):\n",
    "        slices.append(data[i:i+piece_len])\n",
    "    return np.asarray(slices)\n",
    "\n",
    "def optimal_size(count):\n",
    "    p = count**0.5\n",
    "    l = math.ceil(p)\n",
    "    t = math.floor(p)\n",
    "   \n",
    "    return l,t\n",
    "\n",
    "def restore_data(ca, divider, i = 0, numb = 0, end = None):\n",
    "    global cd\n",
    "    if end == None and i == len(cd):\n",
    "        return ca\n",
    "    elif i == end:\n",
    "        return ca\n",
    "    ca_lvl = ca\n",
    "    cd_lvl = get_slices(cd[i], divider)[numb]\n",
    "    \n",
    "    ts_rec = pywt.idwt(ca_lvl, cd_lvl, 'haar')\n",
    "    return restore_data(ts_rec, divider, i+1, end = end)\n",
    "\n",
    "def all_templates(data, labels, cluster_idx):\n",
    "    mask = np.where(labels == cluster_idx)[0]\n",
    "    claster = data[mask]\n",
    "    \n",
    "    template = []\n",
    "    for i in range(len(mask)):\n",
    "        template.append(data[mask[i]])\n",
    "    return {\"template\":np.asarray(template),\n",
    "            \"mask\":mask}\n",
    "    \n",
    "\n",
    "def plot_template(template, mask, size = None):\n",
    "    plt.figure(figsize = (10,10))\n",
    "    count = len(template)\n",
    "    if size == None:\n",
    "        w,h = optimal_size(count)\n",
    "    else:\n",
    "        w,h = size\n",
    "    print(w,h)\n",
    "    k = 0\n",
    "    for i in range(w):\n",
    "        for j in range(h):\n",
    "            try:\n",
    "                plt.subplot(h,w,k+1)\n",
    "                plt.plot(restore_data(template[k], divider, numb = mask[k]))\n",
    "                k+=1\n",
    "            except Exception as e:\n",
    "                break\n",
    "                pass\n",
    "    plt.show()    \n",
    "    \n",
    "def update_centers(centers):\n",
    "    centers_ = []\n",
    "    for center in centers:\n",
    "        c = list(center)+list(center)\n",
    "        centers_.append(c)\n",
    "    return np.asarray(centers_)"
   ]
  },
  {
   "cell_type": "code",
   "execution_count": 136,
   "metadata": {},
   "outputs": [
    {
     "data": {
      "text/plain": [
       "True"
      ]
     },
     "execution_count": 136,
     "metadata": {},
     "output_type": "execute_result"
    }
   ],
   "source": [
    "centers = None\n",
    "centers is  None"
   ]
  },
  {
   "cell_type": "code",
   "execution_count": 154,
   "metadata": {},
   "outputs": [
    {
     "name": "stdout",
     "output_type": "stream",
     "text": [
      "2\n"
     ]
    },
    {
     "name": "stderr",
     "output_type": "stream",
     "text": [
      "C:\\Users\\Zoya\\Anaconda3\\lib\\site-packages\\sklearn\\cluster\\k_means_.py:896: RuntimeWarning: Explicit initial center position passed: performing only one init in k-means instead of n_init=10\n",
      "  return_n_iter=True)\n"
     ]
    },
    {
     "name": "stdout",
     "output_type": "stream",
     "text": [
      "1\n",
      "0\n"
     ]
    }
   ],
   "source": [
    "piece_len = 120 #Размер шаблона\n",
    "divider = len(train_data)//piece_len #кол-во частей на которые бьются данные\n",
    "\n",
    "level = 3 #начальный уровень разложения\n",
    "n_clusters = 128 #кол-во кластеров\n",
    "centers = None\n",
    "\n",
    "while level!=0:\n",
    "\n",
    "    coeffs = pywt.wavedec(train_data,'haar', level = level)\n",
    "    ca, cd = coeffs[0], coeffs[1:]\n",
    "    ca_lvl1 = get_slices(ca, divider)\n",
    "    if centers is not None:\n",
    "        kmeans = KMeans(n_clusters=n_clusters, init=centers)\n",
    "    else:\n",
    "        kmeans = KMeans(n_clusters=n_clusters)\n",
    "    y_kmeans = kmeans.fit_predict(ca_lvl1)\n",
    "    centers = kmeans.cluster_centers_\n",
    "    centers = update_centers(centers)\n",
    "    level-=1\n",
    "    \n",
    "    print(level)"
   ]
  },
  {
   "cell_type": "code",
   "execution_count": 155,
   "metadata": {},
   "outputs": [
    {
     "data": {
      "application/vnd.jupyter.widget-view+json": {
       "model_id": "208bb68bcca24e52951e3fa875eac9b9",
       "version_major": 2,
       "version_minor": 0
      },
      "text/plain": [
       "interactive(children=(IntSlider(value=0, description='idx', max=127), Output()), _dom_classes=('widget-interac…"
      ]
     },
     "metadata": {},
     "output_type": "display_data"
    }
   ],
   "source": [
    "def main(idx):\n",
    "    global ca_lvl1, y_kmeans\n",
    "    template1 = all_templates(ca_lvl1, y_kmeans, idx)\n",
    "    template = template1['template']\n",
    "    mask = template1['mask']\n",
    "    plot_template(template, mask, size = (5,5))\n",
    "    \n",
    "w = interactive(main, idx = widgets.IntSlider(min=0, max=max(y_kmeans), step=1, value=0))\n",
    "display(w)"
   ]
  },
  {
   "cell_type": "code",
   "execution_count": null,
   "metadata": {},
   "outputs": [],
   "source": []
  },
  {
   "cell_type": "code",
   "execution_count": 266,
   "metadata": {},
   "outputs": [
    {
     "data": {
      "text/plain": [
       "[<matplotlib.lines.Line2D at 0xe7d3b987b8>]"
      ]
     },
     "execution_count": 266,
     "metadata": {},
     "output_type": "execute_result"
    },
    {
     "data": {
      "image/png": "[encoded data removed]",
      "text/plain": [
       "<Figure size 432x288 with 1 Axes>"
      ]
     },
     "metadata": {},
     "output_type": "display_data"
    }
   ],
   "source": [
    "slice_num = 12\n",
    "i = mask[0][slice_num]\n",
    "plt.plot(restore_data(claster[slice_num], divider, numb = i))"
   ]
  }
 ],
 "metadata": {
  "kernelspec": {
   "display_name": "Python 3",
   "language": "python",
   "name": "python3"
  },
  "language_info": {
   "codemirror_mode": {
    "name": "ipython",
    "version": 3
   },
   "file_extension": ".py",
   "mimetype": "text/x-python",
   "name": "python",
   "nbconvert_exporter": "python",
   "pygments_lexer": "ipython3",
   "version": "3.6.5"
  }
 },
 "nbformat": 4,
 "nbformat_minor": 2
}
